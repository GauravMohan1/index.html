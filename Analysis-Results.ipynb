{
 "cells": [
  {
   "cell_type": "code",
   "execution_count": 9,
   "metadata": {},
   "outputs": [],
   "source": [
    "import pandas as pd\n",
    "import math"
   ]
  },
  {
   "cell_type": "code",
   "execution_count": 2,
   "metadata": {},
   "outputs": [
    {
     "data": {
      "text/html": [
       "<div>\n",
       "<style scoped>\n",
       "    .dataframe tbody tr th:only-of-type {\n",
       "        vertical-align: middle;\n",
       "    }\n",
       "\n",
       "    .dataframe tbody tr th {\n",
       "        vertical-align: top;\n",
       "    }\n",
       "\n",
       "    .dataframe thead th {\n",
       "        text-align: right;\n",
       "    }\n",
       "</style>\n",
       "<table border=\"1\" class=\"dataframe\">\n",
       "  <thead>\n",
       "    <tr style=\"text-align: right;\">\n",
       "      <th></th>\n",
       "      <th>team</th>\n",
       "      <th>x</th>\n",
       "      <th>y</th>\n",
       "      <th>fgmade</th>\n",
       "    </tr>\n",
       "  </thead>\n",
       "  <tbody>\n",
       "    <tr>\n",
       "      <th>0</th>\n",
       "      <td>Team A</td>\n",
       "      <td>-23.1</td>\n",
       "      <td>3.5</td>\n",
       "      <td>0</td>\n",
       "    </tr>\n",
       "    <tr>\n",
       "      <th>1</th>\n",
       "      <td>Team A</td>\n",
       "      <td>0.0</td>\n",
       "      <td>25.1</td>\n",
       "      <td>1</td>\n",
       "    </tr>\n",
       "    <tr>\n",
       "      <th>2</th>\n",
       "      <td>Team A</td>\n",
       "      <td>0.5</td>\n",
       "      <td>1.0</td>\n",
       "      <td>1</td>\n",
       "    </tr>\n",
       "    <tr>\n",
       "      <th>3</th>\n",
       "      <td>Team A</td>\n",
       "      <td>-5.6</td>\n",
       "      <td>5.2</td>\n",
       "      <td>0</td>\n",
       "    </tr>\n",
       "    <tr>\n",
       "      <th>4</th>\n",
       "      <td>Team A</td>\n",
       "      <td>4.0</td>\n",
       "      <td>14.5</td>\n",
       "      <td>1</td>\n",
       "    </tr>\n",
       "  </tbody>\n",
       "</table>\n",
       "</div>"
      ],
      "text/plain": [
       "     team     x     y  fgmade\n",
       "0  Team A -23.1   3.5       0\n",
       "1  Team A   0.0  25.1       1\n",
       "2  Team A   0.5   1.0       1\n",
       "3  Team A  -5.6   5.2       0\n",
       "4  Team A   4.0  14.5       1"
      ]
     },
     "execution_count": 2,
     "metadata": {},
     "output_type": "execute_result"
    }
   ],
   "source": [
    "df = pd.read_csv('shots_data.csv')\n",
    "df.head()"
   ]
  },
  {
   "cell_type": "code",
   "execution_count": 8,
   "metadata": {},
   "outputs": [],
   "source": [
    "PT2,NC3,C3 = {},{},{}"
   ]
  },
  {
   "cell_type": "code",
   "execution_count": 17,
   "metadata": {},
   "outputs": [],
   "source": [
    "nm1,nm2,nm3 = 0,0,0\n",
    "ns1,ns2,ns3 = 0,0,0\n",
    "for index, row in df.iterrows():\n",
    "    x1,y1 = (0,0)\n",
    "    x2,y2 = row['x'],row['y']\n",
    "    distance = ((((x2 - x1 )**2) + ((y2-y1)**2) )**0.5)\n",
    "    if abs(row['y'] > 7.8) and distance >= 23.75:\n",
    "        ns1 += 1\n",
    "        nm1 += row['fgmade']\n",
    "        NC3[row['team']] = ((ns1,nm1))\n",
    "    elif abs(row['y'] <= 7.8) and (22 <= distance <= 23.75):\n",
    "        ns2 += 1\n",
    "        nm2 += row['fgmade']\n",
    "        C3[row['team']] = ((ns2,nm2))\n",
    "    elif distance < 22:\n",
    "        ns3 += 1\n",
    "        nm3 += row['fgmade']\n",
    "        PT2[row['team']] = ((ns3,nm3))"
   ]
  },
  {
   "cell_type": "code",
   "execution_count": 19,
   "metadata": {},
   "outputs": [
    {
     "name": "stdout",
     "output_type": "stream",
     "text": [
      "{'Team A': (169, 68), 'Team B': (331, 143)} {'Team A': (90, 29), 'Team B': (186, 64)} {'Team A': (15, 7), 'Team B': (33, 11)}\n"
     ]
    }
   ],
   "source": [
    "print(PT2,NC3,C3)"
   ]
  },
  {
   "cell_type": "code",
   "execution_count": 21,
   "metadata": {},
   "outputs": [],
   "source": [
    "TeamA_tot = PT2['Team A'][0] + NC3['Team A'][0] + C3['Team A'][0]\n",
    "TeamB_tot = PT2['Team B'][0] + NC3['Team B'][0] + C3['Team B'][0]\n",
    "\n",
    "TeamA_2P = PT2['Team A'][0]/TeamA_tot\n",
    "TeamA_NC3 = NC3['Team A'][0]/TeamA_tot\n",
    "TeamA_C3 =  C3['Team A'][0]/TeamA_tot\n",
    "\n",
    "TeamB_2P = PT2['Team B'][0]/TeamB_tot\n",
    "TeamB_NC3 = NC3['Team B'][0]/TeamB_tot\n",
    "TeamB_C3 =  C3['Team B'][0]/TeamB_tot\n",
    "\n",
    "TeamA_2P_efg = PT2['Team A'][1]/PT2['Team A'][0]\n",
    "TeamA_NC3_efg = (NC3['Team A'][1]+NC3['Team A'][1]*0.5)/NC3['Team A'][0]\n",
    "TeamA_C3_efg =  (C3['Team A'][1]+C3['Team A'][1]*0.5)/C3['Team A'][0]\n",
    "\n",
    "TeamB_2P_efg = PT2['Team B'][1]/PT2['Team B'][0]\n",
    "TeamB_NC3_efg = (NC3['Team B'][1]+NC3['Team B'][1]*0.5)/NC3['Team B'][0]\n",
    "TeamB_C3_efg =  (C3['Team B'][1]+C3['Team B'][1]*0.5)/C3['Team B'][0]"
   ]
  },
  {
   "cell_type": "code",
   "execution_count": 23,
   "metadata": {},
   "outputs": [
    {
     "name": "stdout",
     "output_type": "stream",
     "text": [
      "TeamA Shot Distribution: 0.6167883211678832 0.3284671532846715 0.05474452554744526\n"
     ]
    }
   ],
   "source": [
    "print('TeamA Shot Distribution:',TeamA_2P,TeamA_NC3,TeamA_C3)"
   ]
  },
  {
   "cell_type": "code",
   "execution_count": 24,
   "metadata": {},
   "outputs": [
    {
     "name": "stdout",
     "output_type": "stream",
     "text": [
      "TeamA eFG% Distribution: 0.40236686390532544 0.48333333333333334 0.7\n"
     ]
    }
   ],
   "source": [
    "print('TeamA eFG% Distribution:',TeamA_2P_efg,TeamA_NC3_efg,TeamA_C3_efg)"
   ]
  },
  {
   "cell_type": "code",
   "execution_count": 25,
   "metadata": {},
   "outputs": [
    {
     "name": "stdout",
     "output_type": "stream",
     "text": [
      "TeamB Shot Distribution: 0.6018181818181818 0.3381818181818182 0.06\n"
     ]
    }
   ],
   "source": [
    "print('TeamB Shot Distribution:',TeamB_2P,TeamB_NC3,TeamB_C3)"
   ]
  },
  {
   "cell_type": "code",
   "execution_count": 26,
   "metadata": {},
   "outputs": [
    {
     "name": "stdout",
     "output_type": "stream",
     "text": [
      "TeamB eFG% Distribution: 0.43202416918429004 0.5161290322580645 0.5\n"
     ]
    }
   ],
   "source": [
    "print('TeamB eFG% Distribution:',TeamB_2P_efg,TeamB_NC3_efg,TeamB_C3_efg)"
   ]
  }
 ],
 "metadata": {
  "kernelspec": {
   "display_name": "Python 3",
   "language": "python",
   "name": "python3"
  },
  "language_info": {
   "codemirror_mode": {
    "name": "ipython",
    "version": 3
   },
   "file_extension": ".py",
   "mimetype": "text/x-python",
   "name": "python",
   "nbconvert_exporter": "python",
   "pygments_lexer": "ipython3",
   "version": "3.8.3"
  }
 },
 "nbformat": 4,
 "nbformat_minor": 4
}
